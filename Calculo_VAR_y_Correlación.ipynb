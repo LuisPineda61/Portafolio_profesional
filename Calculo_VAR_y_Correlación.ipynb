{
  "nbformat": 4,
  "nbformat_minor": 0,
  "metadata": {
    "colab": {
      "provenance": [],
      "authorship_tag": "ABX9TyNkke/rJ4JJzbI97b2ZrY2d",
      "include_colab_link": true
    },
    "kernelspec": {
      "name": "python3",
      "display_name": "Python 3"
    },
    "language_info": {
      "name": "python"
    }
  },
  "cells": [
    {
      "cell_type": "markdown",
      "metadata": {
        "id": "view-in-github",
        "colab_type": "text"
      },
      "source": [
        "<a href=\"https://colab.research.google.com/github/LuisPineda61/Portafolio_profesional/blob/main/Calculo_VAR_y_Correlaci%C3%B3n.ipynb\" target=\"_parent\"><img src=\"https://colab.research.google.com/assets/colab-badge.svg\" alt=\"Open In Colab\"/></a>"
      ]
    },
    {
      "cell_type": "code",
      "execution_count": null,
      "metadata": {
        "colab": {
          "base_uri": "https://localhost:8080/"
        },
        "id": "WPtryqPJxVh-",
        "outputId": "69b1da24-efb6-422d-eeea-0a71499091a7"
      },
      "outputs": [
        {
          "output_type": "stream",
          "name": "stdout",
          "text": [
            "[*********************100%%**********************]  2 of 2 completed\n",
            "Standard Deviation:\n",
            "AAPL    0.018490\n",
            "MSFT    0.017655\n",
            "dtype: float64\n",
            "Correlation:\n",
            "          AAPL      MSFT\n",
            "AAPL  1.000000  0.697377\n",
            "MSFT  0.697377  1.000000\n",
            "AAPL Correlation: AAPL    1.000000\n",
            "MSFT    0.697377\n",
            "Name: AAPL, dtype: float64\n",
            "MSFT Correlation: AAPL    0.697377\n",
            "MSFT    1.000000\n",
            "Name: MSFT, dtype: float64\n",
            "AAPL VaR: 96172.36628527255\n",
            "MSFT VaR: 183656.36100136995\n"
          ]
        }
      ],
      "source": [
        "import yfinance as yf\n",
        "import datetime\n",
        "import numpy as np\n",
        "import pandas as pd\n",
        "\n",
        "# Se define las acciones a descargar desde NYSE. Usaremos Yahoo Finance (YF) para obtener los datos de las acciones.\n",
        "tickers_list = ['AAPL', 'MSFT']\n",
        "\n",
        "# Se Descargan los datos desde Yahoo Finance. Los datos se almacenarán en un DataFrame de pandas.\n",
        "# Se descargan los datos bursátiles desde el 1 de enero de 2015 hasta la última fecha disponible.\n",
        "\n",
        "start_date = datetime.datetime(2015, 1, 1)\n",
        "end_date = pd.to_datetime(stock_data.index.values.max())\n",
        "\n",
        "stock_data = yf.download(tickers_list, start=start_date, end=end_date)\n",
        "\n",
        "# Se calcula el cambio porcentual en los precios de las acciones.\n",
        "stock_data_pct_change = stock_data['Adj Close'].pct_change()\n",
        "\n",
        "# Se calcula la desviación estándar del cambio porcentual.\n",
        "standard_deviation = stock_data_pct_change.std()\n",
        "\n",
        "# Se calcula la correlación entre los precios de las acciones.\n",
        "correlation = stock_data_pct_change.corr()\n",
        "\n",
        "# Se calcula el valor en riesgo de cada acción.\n",
        "# P es el valor inicial de la cartera para cada acción.\n",
        "# T es el horizonte de tiempo analizado\n",
        "# Z es el cuantil -1,6448 de la distribución normal estándar\n",
        "\n",
        "P = {'AAPL': 1000000, 'MSFT': 2000000}\n",
        "T = 10\n",
        "Z = -1.6448\n",
        "\n",
        "VaR = {}\n",
        "for stock in tickers_list:\n",
        "    VaR[stock] = -P[stock] * (standard_deviation[stock] * np.sqrt(T)) * Z\n",
        "\n",
        "# Se calcula la correlación entre los precios de las acciones.\n",
        "correlation = stock_data_pct_change.corr()\n",
        "\n",
        "print(f\"Standard Deviation:\\n{standard_deviation}\")\n",
        "print(f\"Correlation:\\n{correlation}\")\n",
        "\n",
        "# Se Imprime la correlación para cada acción.\n",
        "for stock in tickers_list:\n",
        "    print(f\"{stock} Correlation: {correlation[stock]}\")\n",
        "\n",
        "# Se imprime el VaR de cada acción.\n",
        "for stock in tickers_list:\n",
        "    print(f\"{stock} VaR: {VaR[stock]}\")"
      ]
    }
  ]
}