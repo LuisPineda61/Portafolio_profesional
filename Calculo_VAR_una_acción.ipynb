{
  "nbformat": 4,
  "nbformat_minor": 0,
  "metadata": {
    "colab": {
      "provenance": [],
      "authorship_tag": "ABX9TyNB+/G4wZtwqpOSn/obY7JE",
      "include_colab_link": true
    },
    "kernelspec": {
      "name": "python3",
      "display_name": "Python 3"
    },
    "language_info": {
      "name": "python"
    }
  },
  "cells": [
    {
      "cell_type": "markdown",
      "metadata": {
        "id": "view-in-github",
        "colab_type": "text"
      },
      "source": [
        "<a href=\"https://colab.research.google.com/github/LuisPineda61/Portafolio_profesional/blob/main/Calculo_VAR_una_acci%C3%B3n.ipynb\" target=\"_parent\"><img src=\"https://colab.research.google.com/assets/colab-badge.svg\" alt=\"Open In Colab\"/></a>"
      ]
    },
    {
      "cell_type": "code",
      "execution_count": 1,
      "metadata": {
        "colab": {
          "base_uri": "https://localhost:8080/"
        },
        "id": "xGJe8xarzna4",
        "outputId": "f70493ff-f8f6-4297-8e0e-3003519800e6"
      },
      "outputs": [
        {
          "output_type": "stream",
          "name": "stdout",
          "text": [
            "\r[*********************100%%**********************]  1 of 1 completed\n",
            "Promedio de rentabilidades diarias: 0.0029\n",
            "Desviación estándar de rentabilidades diarias: 0.0174\n",
            "Volatilidad anualizada: 0.2766\n",
            "Número de rentabilidades analizadas: 250\n",
            "VAR (Valor en Riesgo): 226581.65\n"
          ]
        }
      ],
      "source": [
        "import yfinance as yf\n",
        "import numpy as np\n",
        "import pandas as pd\n",
        "\n",
        "# Definir el símbolo de la acción y las fechas de inicio y fin\n",
        "symbol = \"META\"\n",
        "start_date = \"2022-12-15\"\n",
        "end_date = \"2023-12-14\"\n",
        "\n",
        "# Obtener los datos de yfinance\n",
        "meta_data = yf.download(symbol, start=start_date, end=end_date)\n",
        "\n",
        "# Calcular las rentabilidades diarias\n",
        "meta_data['Daily_Return'] = (meta_data['Adj Close'] / meta_data['Open']) - 1\n",
        "\n",
        "# Calcular el promedio y la desviación estándar de las rentabilidades diarias\n",
        "average_return = np.mean(meta_data['Daily_Return'])\n",
        "std_dev_return = np.std(meta_data['Daily_Return'])\n",
        "\n",
        "# Calcular la volatilidad anualizada multiplicando la desviación estándar por la raíz cuadrada de 252\n",
        "volatility = std_dev_return * np.sqrt(252)\n",
        "\n",
        "# Obtener el número de rentabilidades utilizadas en el cálculo\n",
        "num_returns = len(meta_data['Daily_Return'])\n",
        "\n",
        "# Parámetros para el cálculo del VAR para un horizonte de tiempo de 10 días\n",
        "monto_inversion = 2500000\n",
        "nivel_confianza = 1.6448\n",
        "horizonte_tiempo = np.sqrt(10/252)\n",
        "\n",
        "# Calcular el VAR (Valor en Riesgo)\n",
        "var = monto_inversion * nivel_confianza * volatility * horizonte_tiempo\n",
        "\n",
        "# Mostrar los resultados\n",
        "print(f\"Promedio de rentabilidades diarias: {average_return:.4f}\")\n",
        "print(f\"Desviación estándar de rentabilidades diarias: {std_dev_return:.4f}\")\n",
        "print(f\"Volatilidad anualizada: {volatility:.4f}\")\n",
        "print(f\"Número de rentabilidades analizadas: {num_returns}\")\n",
        "print(f\"VAR (Valor en Riesgo): {var:.2f}\")"
      ]
    }
  ]
}